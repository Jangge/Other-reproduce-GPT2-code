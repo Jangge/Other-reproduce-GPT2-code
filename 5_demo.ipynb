{
 "cells": [
  {
   "cell_type": "markdown",
   "id": "e2f6df79",
   "metadata": {},
   "source": [
    "# 训练好模型后用来演示的demo"
   ]
  },
  {
   "cell_type": "code",
   "execution_count": null,
   "id": "440198e8",
   "metadata": {},
   "outputs": [],
   "source": [
    "import torch\n",
    "from gpt_model import GPT\n",
    "\n",
    "device = torch.device('cuda')\n",
    "model = GPT().to(device)\n",
    "\n",
    "model.load_state_dict(torch.load('GPT2.pt'))\n",
    "\n",
    "model.eval()\n",
    "\n",
    "# 初始输入时空， 每次加上后面的对话信息\n",
    "sentence = ''\n",
    "\n",
    "while True:\n",
    "    temp_sentence = input(\"我:\")\n",
    "    sentence += (temp_sentence + '\\t')\n",
    "    if len(sentence) > 200:\n",
    "        # 避免输出太长\n",
    "        t_index = sentence.find('\\t')\n",
    "        sentence = sentence[t_index + 1:]\n",
    "        \n",
    "    print(\"机器人：\", model.answer(sentence))"
   ]
  }
 ],
 "metadata": {
  "kernelspec": {
   "display_name": "machine_zzh",
   "language": "python",
   "name": "machine_zzh"
  },
  "language_info": {
   "codemirror_mode": {
    "name": "ipython",
    "version": 3
   },
   "file_extension": ".py",
   "mimetype": "text/x-python",
   "name": "python",
   "nbconvert_exporter": "python",
   "pygments_lexer": "ipython3",
   "version": "3.10.11"
  }
 },
 "nbformat": 4,
 "nbformat_minor": 5
}
