{
 "cells": [
  {
   "cell_type": "markdown",
   "id": "8998d59c",
   "metadata": {},
   "source": [
    "# 生成训练集的字典"
   ]
  },
  {
   "cell_type": "markdown",
   "id": "9c37d317",
   "metadata": {},
   "source": [
    "# "
   ]
  },
  {
   "cell_type": "code",
   "execution_count": 1,
   "id": "c586eaaf",
   "metadata": {},
   "outputs": [],
   "source": [
    "import json"
   ]
  },
  {
   "cell_type": "code",
   "execution_count": 4,
   "id": "976618c0",
   "metadata": {},
   "outputs": [],
   "source": [
    "def get_dict(datas):\n",
    "    word_count = {} # 用于统计每个词出现的频率\n",
    "    for data in datas:\n",
    "        \n",
    "        # 去除data两端的空白字符， 并使用''替代'\\t'\n",
    "        data = data.strip().replace('\\t', '')\n",
    "        # 这是字符级的,不是词语类型的，每个字就是一个词典的键\n",
    "        for word in data:\n",
    "            word_count.setdefault(word, 0) # 如果word不在word_count中则添加在其中，值默认为0\n",
    "            word_count[word] += 1 # 计数\n",
    "            \n",
    "    # 初始化特殊标记\n",
    "    word2id = {\"<pad>\":0, \"<unk>\":1, \"<sep>\":2}\n",
    "    \n",
    "    # 生成字典\n",
    "    temp = {word:i + len(word2id) for i, word in enumerate(word_count.keys())}\n",
    "    # 将temp中所有的键值对添加到'word2id'中\n",
    "    word2id.update(temp)\n",
    "    # 建一个列表 id2word，包含 word2id 字典的所有键（即所有字符和特殊标记），顺序与 word2id 中的ID一致\n",
    "    id2word = list(word2id.keys())\n",
    "    \n",
    "    return word2id, id2word"
   ]
  },
  {
   "cell_type": "code",
   "execution_count": 5,
   "id": "327f09de",
   "metadata": {},
   "outputs": [],
   "source": [
    "# 示例\n",
    "with open('data/dataset.txt', 'r', encoding='utf-8') as f:\n",
    "    datas = f.readlines()\n",
    "word2id, id2word = get_dict(datas)"
   ]
  },
  {
   "cell_type": "code",
   "execution_count": 7,
   "id": "3261f35d",
   "metadata": {},
   "outputs": [],
   "source": [
    "dict_datas = {\"word2id\":word2id,\"id2word\":id2word}\n",
    "\n",
    "json.dump(dict_datas, open('data/dict_datas.json', 'w', encoding='utf-8'))"
   ]
  },
  {
   "cell_type": "code",
   "execution_count": null,
   "id": "33cc0ec9",
   "metadata": {},
   "outputs": [],
   "source": []
  }
 ],
 "metadata": {
  "kernelspec": {
   "display_name": "machine_zzh",
   "language": "python",
   "name": "machine_zzh"
  },
  "language_info": {
   "codemirror_mode": {
    "name": "ipython",
    "version": 3
   },
   "file_extension": ".py",
   "mimetype": "text/x-python",
   "name": "python",
   "nbconvert_exporter": "python",
   "pygments_lexer": "ipython3",
   "version": "3.10.11"
  }
 },
 "nbformat": 4,
 "nbformat_minor": 5
}
