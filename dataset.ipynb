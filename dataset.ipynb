{
 "cells": [
  {
   "cell_type": "markdown",
   "id": "9993c959",
   "metadata": {},
   "source": [
    "# 自定义数据集\n",
    "- 用于构建训练的输入和标签\n",
    "- 标签和输入都是同一句话，只不过标签向后移动一位\n",
    "    - 输入：[\"The\", \"cat\", \"sat\", \"on\", \"the\"]\n",
    "    - 标签：[\"cat\", \"sat\", \"on\", \"the\", \"mat\"]"
   ]
  },
  {
   "cell_type": "code",
   "execution_count": 1,
   "id": "3c5edeb4",
   "metadata": {},
   "outputs": [],
   "source": [
    "import torch\n",
    "import torch.utils.data as Data"
   ]
  },
  {
   "cell_type": "code",
   "execution_count": 2,
   "id": "3d55ca26",
   "metadata": {},
   "outputs": [],
   "source": [
    "# 预处理文本的方法\n",
    "# 这个函数的输入输出是什么？有什么作用？\n",
    "# 制:表符 \\t 被替换为 <sep>\n",
    "def make_data(datas):\n",
    "    train_datas = []\n",
    "    for data in datas:\n",
    "        data = data.strip() # 去除首尾空格\n",
    "        train_data = [i if i != '\\t' else \"<sep>\" for i in data] + ['<sep>']\n",
    "        train_datas.append(train_data)\n",
    "    return train_datas"
   ]
  },
  {
   "cell_type": "code",
   "execution_count": null,
   "id": "384541c6",
   "metadata": {},
   "outputs": [],
   "source": [
    "# 自定义数据集\n",
    "# 需要返回输入和标签\n",
    "class MyDataSet(Data.Dataset):\n",
    "    \n",
    "    # 导入预处理好的训练集\n",
    "    def __init__(self, datas):\n",
    "        self.datas = datas\n",
    "        \n",
    "    # 获取输入和标签\n",
    "    def __getitem__(self, idx):\n",
    "        data = self.datas[idx]\n",
    "        decoder_input = data[:-1] # 输入是所有文本\n",
    "        decoder_output = data[1:] # 输出也就是标签是移动一位的同一个文本\n",
    "        \n",
    "        decoder_input_len = len(decoder_input)\n",
    "        decoder_output_len = len(deocder_output)\n",
    "        \n",
    "        return {\n",
    "            \"decoder_input\":decoder_input,\n",
    "            \"decoder_input_len\":decoder_input_len,\n",
    "            \"decoder_output\":decoder_output,\n",
    "            \"decoder_output_len\":decoder_output_len\n",
    "        }\n",
    "    \n",
    "    def __len__(self):\n",
    "        return len(self.datas)\n",
    "    \n",
    "    # 这段函数是什么意思？对一个batch的数据进行填充保证一样的长度大小\n",
    "    def padding_batch(self, batch):\n",
    "        decoder_input_lens = [d[\"decoder_input_len\"] for d in batch]\n",
    "        decoder_output_lens = [d[\"decoder_output_len\"] for d in batch]\n",
    "        \n",
    "        decoder_input_maxlen = max(decoder_input_lens)\n",
    "        decoder_output_maxlen = max(decoder_output_lens)\n",
    "        \n",
    "        for d in batch:\n",
    "            d[\"decoder_input\"].extend([word2id[\"<pad>\"]]*(decoder_input_maxlen-d[\"decoder_input_len\"]))\n",
    "            d[\"decoder_output\"].extend([word2id[\"<pad>\"]]*(decoder_output_maxlen-d[\"decoder_output_len\"]))\n",
    "        decoder_inputs = torch.tensor([d[\"decoder_input\"] for d in batch], dtype=torch.long)\n",
    "        decoder_outputs = torch.tensor([d[\"decoder_output\"] for d in batch], dtype=torch.long)\n",
    "        \n",
    "        return decoder_inputs, decoder_outputs\n",
    "    "
   ]
  }
 ],
 "metadata": {
  "kernelspec": {
   "display_name": "machine_zzh",
   "language": "python",
   "name": "machine_zzh"
  },
  "language_info": {
   "codemirror_mode": {
    "name": "ipython",
    "version": 3
   },
   "file_extension": ".py",
   "mimetype": "text/x-python",
   "name": "python",
   "nbconvert_exporter": "python",
   "pygments_lexer": "ipython3",
   "version": "3.10.11"
  }
 },
 "nbformat": 4,
 "nbformat_minor": 5
}
