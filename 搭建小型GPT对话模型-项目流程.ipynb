{
 "cells": [
  {
   "cell_type": "markdown",
   "id": "4644dea6",
   "metadata": {},
   "source": [
    "# 1、项目目标\n",
    "- 自定义GPT模型并训练\n",
    "- 搭建一个小型的对话模型\n"
   ]
  },
  {
   "cell_type": "markdown",
   "id": "91e2b8e4",
   "metadata": {},
   "source": [
    "# 2、项目流程\n",
    "- 0.导入需要的包\n",
    "- 1.处理数据集为可以输入的状态：\n",
    "    - 分词\n",
    "    - 搭建词库\n",
    "    - 转成token Id\n",
    "    - 此枪如不知道要不要再这一步做\n",
    "- 2.搭建GPT模型\n",
    "- 3.搭建训练函数\n",
    "- 4.训练\n",
    "- 5.怎么来使用"
   ]
  },
  {
   "cell_type": "code",
   "execution_count": null,
   "id": "45c6c294",
   "metadata": {},
   "outputs": [],
   "source": []
  }
 ],
 "metadata": {
  "kernelspec": {
   "display_name": "machine_zzh",
   "language": "python",
   "name": "machine_zzh"
  },
  "language_info": {
   "codemirror_mode": {
    "name": "ipython",
    "version": 3
   },
   "file_extension": ".py",
   "mimetype": "text/x-python",
   "name": "python",
   "nbconvert_exporter": "python",
   "pygments_lexer": "ipython3",
   "version": "3.10.11"
  }
 },
 "nbformat": 4,
 "nbformat_minor": 5
}
