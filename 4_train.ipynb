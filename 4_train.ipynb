{
 "cells": [
  {
   "cell_type": "markdown",
   "id": "c00ce9ed",
   "metadata": {},
   "source": [
    "# 搭建训练函数并训练\n",
    "\n",
    "- 先定义一个epoch下的函数\n",
    "- 在定义多个循环的函数\n"
   ]
  },
  {
   "cell_type": "code",
   "execution_count": 2,
   "id": "cc3b245d",
   "metadata": {},
   "outputs": [],
   "source": [
    "# 用来计时的方法\n",
    "def epoch_time(start_time, end_time):\n",
    "    elapsed_time = end_time - start_time\n",
    "    elapsed_mins = int(elapsed_time / 60)\n",
    "    elapsed_secs = int(elapsed_time - (elapsed_mins *60))\n",
    "    return elapsed_mins, elapsed_secs"
   ]
  },
  {
   "cell_type": "markdown",
   "id": "b1440ca0",
   "metadata": {},
   "source": [
    "# 1.定义一个epoch下训练数据的流动"
   ]
  },
  {
   "cell_type": "code",
   "execution_count": 3,
   "id": "28e6ace8",
   "metadata": {},
   "outputs": [],
   "source": [
    "def train_step(model, data_loader, optimizer, criterion, clip=1, print_every=None):\n",
    "    \n",
    "    # 先进入训练模式\n",
    "    model.train()\n",
    "    \n",
    "    # 打印输出\n",
    "    if print_every == 0:\n",
    "        print_every = 1\n",
    "        \n",
    "    print_loss_total = 0 # 每次打印都重置\n",
    "    epoch_loss = 0\n",
    "    \n",
    "    for i, (dec_inputs, dec_outputs) in enumerate(tqdm(data_loader)):\n",
    "        # dec_inputs:[batch_size, tgt_len]  tgt_len是每个样本中句子的长度\n",
    "        # dec_outputs:[batch_size, tgt_len]\n",
    "        \n",
    "        optimizer.zero_grad()\n",
    "        dec_inputs, dec_outputs = dec_inputs.to(device), dec_outputs.to(device)\n",
    "        \n",
    "        # outputs:[batch_size * tgt_len, tgt_vocab_size]\n",
    "        outputs, dec_self_attns = model(dec_inputs)\n",
    "        \n",
    "        # 反向传播\n",
    "        loss = criterion(outputs, dec_outputs.view(-1))\n",
    "        \n",
    "        print_loss_total += loss.item()\n",
    "        epoch_loss += loss.item()\n",
    "        loss.backward()\n",
    "        \n",
    "        # 梯度裁剪 ：对所有梯度乘一个小于1的系数\n",
    "        torch.nn.utils.clip_grad_norm_(model.parameters(), clip)\n",
    "        \n",
    "        # 更新参数\n",
    "        optimizer.step()\n",
    "        \n",
    "        if print_every and (i + 1) % print_every == 0:\n",
    "            print_loss_avg = print_loss_total / print_every\n",
    "            print_loss_total = 0\n",
    "            print('\\tCurrent Loss: %.4f' % print_loss_avg)\n",
    "    return epoch_loss / len(data_loader)"
   ]
  },
  {
   "cell_type": "markdown",
   "id": "71a01a60",
   "metadata": {},
   "source": [
    "# 2.定义训练方法"
   ]
  },
  {
   "cell_type": "code",
   "execution_count": 4,
   "id": "c9c7f9a9",
   "metadata": {},
   "outputs": [],
   "source": [
    "def train(model, data_loader):\n",
    "    \n",
    "    # 损失函数和优化器\n",
    "    criterion = nn.CrossEntropyLoss(ignore_index=0).to(device)\n",
    "    optimizer = optim.Adam(model.parameters(), lr=1e-4)\n",
    "    \n",
    "    # 开始循环\n",
    "    for epoch in range(epochs):\n",
    "        start_time = time.time()\n",
    "        train_loss = train_step(model, data_loader, optimizer, criterion, CLIP, print_every=10)\n",
    "        end_time = time.time()\n",
    "        \n",
    "        # 保存模型\n",
    "        torch.save(model.state_dict(), 'GPT2.pt')\n",
    "        \n",
    "        # 显示训练时长\n",
    "        epoch_mins, epoch_secs = epoch_time(start_time, end_time)\n",
    "        print(f'Epoch: {epoch +1:02} | Time:{epoch_mins}m{epoch_secs}s')\n",
    "        print(f'\\tTrain Loss: {train_loss:.3f}')"
   ]
  },
  {
   "cell_type": "code",
   "execution_count": null,
   "id": "26a936d7",
   "metadata": {},
   "outputs": [],
   "source": []
  },
  {
   "cell_type": "code",
   "execution_count": 5,
   "id": "17d71c85",
   "metadata": {},
   "outputs": [],
   "source": [
    "def print_num_paramters(model):\n",
    "    # Find total paramers and trainable parameters\n",
    "    total_params = sum(p.numel() for p in model.paramters())\n",
    "    print(f'{total_params:,} total parameters')\n",
    "    total_trainable_params = sum(\n",
    "        p.numel() for p in model.parameters() if p.requires_grad\n",
    "    )\n",
    "    print(f'{taotal_trainable_params:,} training paramters')"
   ]
  },
  {
   "cell_type": "markdown",
   "id": "901487e1",
   "metadata": {},
   "source": [
    "# 3.开始训练"
   ]
  },
  {
   "cell_type": "code",
   "execution_count": null,
   "id": "fc812168",
   "metadata": {},
   "outputs": [],
   "source": [
    "with open('dataset.txt', 'r', encoding='utf-8') as f:\n",
    "    datas = f.readlines()\n",
    "    \n",
    "train_data = make_data(datas)\n",
    "\n",
    "train_num_data = [[word2id[word] for word in line] for line in train_data]\n",
    "\n",
    "batch_size = 8\n",
    "epochs = 30\n",
    "dataset = MyDataSet(train_num_data)\n",
    "data_loader = Data.DataLoader(dataset, batch_size=batch_size, collate_fn=dataset.padding_batch)\n",
    "\n",
    "model = GPT().to(device)\n",
    "\n",
    "# 是否加载训练好的参数\n",
    "# model.load_state_dict(torch.load('GPT2.pt'))\n",
    "\n",
    "trin(model, data_loader)"
   ]
  }
 ],
 "metadata": {
  "kernelspec": {
   "display_name": "machine_zzh",
   "language": "python",
   "name": "machine_zzh"
  },
  "language_info": {
   "codemirror_mode": {
    "name": "ipython",
    "version": 3
   },
   "file_extension": ".py",
   "mimetype": "text/x-python",
   "name": "python",
   "nbconvert_exporter": "python",
   "pygments_lexer": "ipython3",
   "version": "3.10.11"
  }
 },
 "nbformat": 4,
 "nbformat_minor": 5
}
